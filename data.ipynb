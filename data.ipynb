{
 "cells": [
  {
   "cell_type": "code",
   "execution_count": 1,
   "metadata": {},
   "outputs": [
    {
     "name": "stdout",
     "output_type": "stream",
     "text": [
      "Defaulting to user installation because normal site-packages is not writeable\n",
      "Requirement already satisfied: mftool in /home/pritom/.local/lib/python3.10/site-packages (2.8)\n",
      "Requirement already satisfied: Deprecated in /home/pritom/.local/lib/python3.10/site-packages (from mftool) (1.2.15)\n",
      "Requirement already satisfied: bs4 in /home/pritom/.local/lib/python3.10/site-packages (from mftool) (0.0.2)\n",
      "Requirement already satisfied: httpx in /home/pritom/.local/lib/python3.10/site-packages (from mftool) (0.28.1)\n",
      "Requirement already satisfied: pandas in /home/pritom/.local/lib/python3.10/site-packages (from mftool) (2.1.3)\n",
      "Requirement already satisfied: requests in /home/pritom/.local/lib/python3.10/site-packages (from mftool) (2.32.3)\n",
      "Requirement already satisfied: yfinance in /home/pritom/.local/lib/python3.10/site-packages (from mftool) (0.2.50)\n",
      "Requirement already satisfied: beautifulsoup4 in /home/pritom/.local/lib/python3.10/site-packages (from bs4->mftool) (4.12.2)\n",
      "Requirement already satisfied: wrapt<2,>=1.10 in /home/pritom/.local/lib/python3.10/site-packages (from Deprecated->mftool) (1.17.0)\n",
      "Requirement already satisfied: anyio in /home/pritom/.local/lib/python3.10/site-packages (from httpx->mftool) (4.7.0)\n",
      "Requirement already satisfied: certifi in /usr/lib/python3/dist-packages (from httpx->mftool) (2020.6.20)\n",
      "Requirement already satisfied: httpcore==1.* in /home/pritom/.local/lib/python3.10/site-packages (from httpx->mftool) (1.0.7)\n",
      "Requirement already satisfied: idna in /usr/lib/python3/dist-packages (from httpx->mftool) (3.3)\n",
      "Requirement already satisfied: h11<0.15,>=0.13 in /home/pritom/.local/lib/python3.10/site-packages (from httpcore==1.*->httpx->mftool) (0.14.0)\n",
      "Requirement already satisfied: numpy<2,>=1.22.4 in /home/pritom/.local/lib/python3.10/site-packages (from pandas->mftool) (1.26.2)\n",
      "Requirement already satisfied: python-dateutil>=2.8.2 in /home/pritom/.local/lib/python3.10/site-packages (from pandas->mftool) (2.8.2)\n",
      "Requirement already satisfied: pytz>=2020.1 in /home/pritom/.local/lib/python3.10/site-packages (from pandas->mftool) (2024.2)\n",
      "Requirement already satisfied: tzdata>=2022.1 in /home/pritom/.local/lib/python3.10/site-packages (from pandas->mftool) (2023.3)\n",
      "Requirement already satisfied: charset-normalizer<4,>=2 in /home/pritom/.local/lib/python3.10/site-packages (from requests->mftool) (3.4.0)\n",
      "Requirement already satisfied: urllib3<3,>=1.21.1 in /usr/lib/python3/dist-packages (from requests->mftool) (1.26.5)\n",
      "Requirement already satisfied: multitasking>=0.0.7 in /home/pritom/.local/lib/python3.10/site-packages (from yfinance->mftool) (0.0.11)\n",
      "Requirement already satisfied: lxml>=4.9.1 in /home/pritom/.local/lib/python3.10/site-packages (from yfinance->mftool) (5.2.1)\n",
      "Requirement already satisfied: platformdirs>=2.0.0 in /home/pritom/.local/lib/python3.10/site-packages (from yfinance->mftool) (4.2.1)\n",
      "Requirement already satisfied: frozendict>=2.3.4 in /home/pritom/.local/lib/python3.10/site-packages (from yfinance->mftool) (2.4.6)\n",
      "Requirement already satisfied: peewee>=3.16.2 in /home/pritom/.local/lib/python3.10/site-packages (from yfinance->mftool) (3.17.8)\n",
      "Requirement already satisfied: html5lib>=1.1 in /home/pritom/.local/lib/python3.10/site-packages (from yfinance->mftool) (1.1)\n",
      "Requirement already satisfied: soupsieve>1.2 in /home/pritom/.local/lib/python3.10/site-packages (from beautifulsoup4->bs4->mftool) (2.5)\n",
      "Requirement already satisfied: six>=1.9 in /usr/lib/python3/dist-packages (from html5lib>=1.1->yfinance->mftool) (1.16.0)\n",
      "Requirement already satisfied: webencodings in /home/pritom/.local/lib/python3.10/site-packages (from html5lib>=1.1->yfinance->mftool) (0.5.1)\n",
      "Requirement already satisfied: exceptiongroup>=1.0.2 in /home/pritom/.local/lib/python3.10/site-packages (from anyio->httpx->mftool) (1.2.1)\n",
      "Requirement already satisfied: sniffio>=1.1 in /home/pritom/.local/lib/python3.10/site-packages (from anyio->httpx->mftool) (1.3.1)\n",
      "Requirement already satisfied: typing_extensions>=4.5 in /home/pritom/.local/lib/python3.10/site-packages (from anyio->httpx->mftool) (4.11.0)\n"
     ]
    }
   ],
   "source": [
    "!pip3 install mftool"
   ]
  },
  {
   "cell_type": "code",
   "execution_count": 2,
   "metadata": {},
   "outputs": [],
   "source": [
    "from mftool import Mftool\n",
    "from datetime import datetime"
   ]
  },
  {
   "cell_type": "code",
   "execution_count": 3,
   "metadata": {},
   "outputs": [
    {
     "name": "stdout",
     "output_type": "stream",
     "text": [
      "now =  2025\n"
     ]
    }
   ],
   "source": [
    "now = datetime.now().year\n",
    "print(\"now = \", now)\n"
   ]
  },
  {
   "cell_type": "code",
   "execution_count": 4,
   "metadata": {},
   "outputs": [],
   "source": [
    "mf = Mftool()"
   ]
  },
  {
   "cell_type": "code",
   "execution_count": 5,
   "metadata": {},
   "outputs": [
    {
     "data": {
      "text/plain": [
       "list"
      ]
     },
     "execution_count": 5,
     "metadata": {},
     "output_type": "execute_result"
    }
   ],
   "source": [
    "result = mf.get_available_schemes('Motilal')\n",
    "l = list(result.items())[:3]\n",
    "type(l)"
   ]
  },
  {
   "cell_type": "code",
   "execution_count": 6,
   "metadata": {},
   "outputs": [
    {
     "name": "stdout",
     "output_type": "stream",
     "text": [
      "145834 to Motilal Oswal Liquid Fund - Direct Growth\n",
      "145946 to Motilal Oswal Liquid Fund - Regular Growth\n",
      "147442 to Motilal Oswal Liquid Fund - Unclaimed Dividend - Greater than 3 years\n",
      "147441 to Motilal Oswal Liquid Fund - Unclaimed Dividend- Upto 3 years\n",
      "147443 to Motilal Oswal Liquid Fund - Unclaimed Redemption - Greater than 3 years\n",
      "147444 to Motilal Oswal Liquid Fund - Unclaimed Redemption - Upto 3 years\n",
      "146218 to Motilal Oswal Liquid Fund Direct - IDCW  Quarterly Payout/Reinvestment\n",
      "146226 to Motilal Oswal Liquid Fund Direct - IDCW Fortnightly Reinvestment\n",
      "146223 to Motilal Oswal Liquid Fund Direct - IDCW Monthly Payout/Reinvestment\n",
      "146228 to Motilal Oswal Liquid Fund Direct - IDCW Reinvestment\n",
      "146229 to Motilal Oswal Liquid Fund Direct - IDCW Weekly Reinvestment\n",
      "146227 to Motilal Oswal Liquid Fund Regular - IDCW Daily Reinvestment\n",
      "146230 to Motilal Oswal Liquid Fund Regular - IDCW Fortnightly Reinvestment\n",
      "146220 to Motilal Oswal Liquid Fund Regular - IDCW Monthly Payout/Reinvestment\n",
      "146222 to Motilal Oswal Liquid Fund Regular - IDCW Quarterly Payout/Reinvestment\n",
      "146224 to Motilal Oswal Liquid Fund Regular - IDCW Weekly Reinvestment\n",
      "124234 to Motilal Oswal Ultra Short Term Fund (MOFUSTF) -Direct Plan- Growth\n",
      "124233 to Motilal Oswal Ultra Short Term Fund (MOFUSTF)-Regular Plan- Growth\n",
      "124316 to Motilal Oswal Ultra Short Term Fund Direct - IDCW Daily Reinvestment\n",
      "124311 to Motilal Oswal Ultra Short Term Fund Direct - IDCW Fortnightly Reinvestment\n",
      "124312 to Motilal Oswal Ultra Short Term Fund Direct - IDCW Quarterly Payout/Reinvestment\n",
      "124306 to Motilal Oswal Ultra Short Term Fund Direct - IDCW Weekly Reinvestment\n",
      "124308 to Motilal Oswal Ultra Short Term Fund Direct Plan - IDCW Monthly Payout/Reinvestment\n",
      "124303 to Motilal Oswal Ultra Short Term Fund Regular - IDCW Daily Reinvestment\n",
      "124313 to Motilal Oswal Ultra Short Term Fund Regular - IDCW Fortnightly Reinvestment\n",
      "124315 to Motilal Oswal Ultra Short Term Fund Regular - IDCW Monthly Payout/Reinvestment\n",
      "124305 to Motilal Oswal Ultra Short Term Fund Regular - IDCW Quarterly Payout/Reinvestment\n",
      "124310 to Motilal Oswal Ultra Short Term Fund Regular - IDCW Weekly Reinvestment\n",
      "133386 to Motilal Oswal ELSS Tax Saver Fund - Direct Plan - Growth Option\n",
      "133383 to Motilal Oswal ELSS Tax Saver Fund - IDCW Payout\n",
      "133385 to Motilal Oswal ELSS Tax Saver Fund - Regular Plan - Growth Option\n",
      "133384 to Motilal Oswal ELSS Tax Saver Fund Direct - IDCW Payout\n",
      "129047 to Motilal Oswal Flexi Cap Fund Direct - IDCW Payout/Reinvestment\n",
      "129046 to Motilal Oswal Flexi cap Fund Direct Plan-Growth Option\n",
      "129049 to Motilal Oswal Flexi cap Fund Regular - IDCW Payout/Reinvestment\n",
      "129048 to Motilal Oswal Flexi Cap Fund Regular Plan-Growth Option\n",
      "122389 to Motilal Oswal Focused 25 Fund (MOF25)- Direct Plan Growth Option\n",
      "122387 to Motilal Oswal Focused 25 Fund (MOF25)- Regular Plan Growth Option\n",
      "122390 to Motilal Oswal Focused 25 Fund Direct - IDCW Payout/Reinvestment\n",
      "122388 to Motilal Oswal Focused 25 Fund Regular - IDCW Payout/Reinvestment\n",
      "147704 to Motilal Oswal Large and Midcap Fund - Direct Plan Growth\n",
      "147701 to Motilal Oswal Large and Midcap Fund - Regular Plan Growth\n",
      "147706 to Motilal Oswal Large and Midcap Fund Direct - IDCW Payout/Reinvestment\n",
      "147703 to Motilal Oswal Large and Midcap Fund Regular - IDCW Payout/Reinvestment\n",
      "152354 to Motilal Oswal Large Cap Direct Plan Growth\n",
      "152351 to Motilal Oswal Large Cap Direct Plan IDCW\n",
      "152352 to Motilal Oswal Large Cap Regular Plan Growth\n",
      "152353 to Motilal Oswal Large Cap Regular Plan IDCW\n",
      "127044 to Motilal Oswal Midcap Fund-Direct - IDCW Payout/Reinvestment\n",
      "127042 to Motilal Oswal Midcap Fund-Direct Plan-Growth Option\n",
      "127040 to Motilal Oswal Midcap Fund-Regular - IDCW Payout/Reinvestment\n",
      "127039 to Motilal Oswal Midcap Fund-Regular Plan-Growth Option\n",
      "152650 to Motilal Oswal Multi Cap Fund Regular Plan Growth\n",
      "152649 to Motilal Oswal Multi Cap Fund Regular Plan IDCW\n",
      "152651 to Motilal Oswal Multi Cap Fund-Direct Plan Growth\n",
      "152652 to Motilal Oswal Multi Cap Fund-Direct Plan IDCW\n",
      "152796 to Motilal Oswal Business Cycle Fund - Direct Plan- Growth\n",
      "152797 to Motilal Oswal Business Cycle Fund - Direct Plan- IDCW\n",
      "152794 to Motilal Oswal Business Cycle Fund-Regular Plan-Growth\n",
      "152795 to Motilal Oswal Business Cycle Fund-Regular Plan-IDCW\n",
      "152964 to Motilal Oswal Digital India Fund - Direct Plan - Growth\n",
      "152965 to Motilal Oswal Digital India Fund - Direct Plan- IDCW\n",
      "152967 to Motilal Oswal Digital India Fund - Regular Plan - IDCW\n",
      "152966 to Motilal Oswal Digital India Fund - Regular Plan- Growth\n",
      "152762 to Motilal Oswal Manufacturing Fund - Direct Plan - IDCW\n",
      "152760 to Motilal Oswal Manufacturing Fund - Direct Plan- Growth\n",
      "152761 to Motilal Oswal Manufacturing Fund - Regular Plan - IDCW\n",
      "152763 to Motilal Owsal Manufacturing Fund - Regular Plan - Growth\n",
      "152694 to Motilal Oswal Quant Fund - Direct - Growth\n",
      "152695 to Motilal Oswal Quant Fund - Direct - IDCW\n",
      "152692 to Motilal Oswal Quant Fund - Regular - Growth\n",
      "152693 to Motilal Oswal Quant Fund - Regular - IDCW\n",
      "152237 to Motilal Oswal Small Cap Fund - Direct - Growth\n",
      "152235 to Motilal Oswal Small Cap Fund - Direct IDCW\n",
      "152232 to Motilal Oswal Small Cap Fund - Regular - Growth\n",
      "152234 to Motilal Oswal Small Cap Fund - Regular - IDCW\n",
      "153187 to Motilal Oswal Arbitrage Fund-Direct Plan-Growth\n",
      "153185 to Motilal Oswal Arbitrage Fund-Direct Plan-IDCW\n",
      "153188 to Motilal Oswal Arbitrage Fund-Regular Plan-Growth\n",
      "153186 to Motilal Oswal Arbitrage Fund-Regular Plan-IDCW\n",
      "139872 to Motilal Oswal Balanced Advantage Fund  (MOFDYNAMIC) - Direct Plan - Growth Option\n",
      "139863 to Motilal Oswal Balanced Advantage Fund (MOFDYNAMIC) - Regular Plan - Annual Dividend Payout Option\n",
      "139870 to Motilal Oswal Balanced Advantage Fund (MOFDYNAMIC) - Regular Plan - Growth Option\n",
      "139866 to Motilal Oswal Balanced Advantage Fund Direct - Annual IDCW Payout/Reinvestment\n",
      "139865 to Motilal Oswal Balanced Advantage Fund Direct - Quarterly IDCW Payout/Reinvestment\n",
      "139871 to Motilal Oswal Balanced Advantage Fund Regular - Quarterly IDCW Payout/Reinvestment\n",
      "148454 to Motilal Oswal Multi Asset Fund - Direct Plan - Growth Option\n",
      "148455 to Motilal Oswal Multi Asset Fund - Regular Plan - Growth Option\n",
      "149240 to Motilal Oswal 5 Year G-Sec Fund Of Fund Direct -Growth\n",
      "149241 to Motilal Oswal 5 Year G-Sec Fund Of Fund Regular -Growth\n",
      "148747 to Motilal Oswal Asset Allocation FOF- A- Direct Growth\n",
      "148748 to Motilal Oswal Asset Allocation FOF- A- Regular Growth\n",
      "148750 to Motilal Oswal Asset Allocation FOF- C- Direct Growth\n",
      "148749 to Motilal Oswal Asset Allocation FOF- C- Regular Growth\n",
      "150642 to Motilal Oswal Gold and Silver ETFs Fund of Funds(Direct Plan)\n",
      "150641 to Motilal Oswal Gold and Silver ETFs Fund of Funds(Regular Plan)\n",
      "145552 to Motilal Oswal Nasdaq 100 Fund of Fund- Direct Plan Growth\n",
      "145551 to Motilal Oswal Nasdaq 100 Fund of Fund- Regular Plan Growth\n",
      "152090 to Motilal Oswal Developed Market Ex US ETFs Fund of Funds Direct Plan Growth\n",
      "152091 to Motilal Oswal Developed Market Ex US ETFs Fund of Funds Regular Plan Growth\n",
      "150518 to Motilal Oswal BSE Enhanced Value Index Fund-Direct plan\n",
      "150519 to Motilal Oswal BSE Enhanced Value Index Fund-Regular plan\n",
      "150443 to Motilal Oswal BSE Financials ex Bank 30 Index Fund Direct Growth\n",
      "150444 to Motilal Oswal BSE Financials ex Bank 30 Index Fund Regular Growth\n",
      "149919 to Motilal Oswal BSE Low Volatility Index Fund-Direct plan\n",
      "149920 to Motilal Oswal BSE Low Volatility Index Fund-Regular plan\n",
      "150521 to Motilal Oswal BSE Quality Index Fund-Direct plan\n",
      "150522 to Motilal Oswal BSE Quality Index Fund-Regular plan\n",
      "149800 to Motilal Oswal Nifty 200 Momentum 30 Index Fund-Direct Plan\n",
      "149799 to Motilal Oswal Nifty 200 Momentum 30 Index Fund-Regular Plan\n",
      "147794 to Motilal Oswal Nifty 50 Index Fund - Direct plan - Growth\n",
      "147795 to Motilal Oswal Nifty 50 Index Fund - Regular plan - Growth\n",
      "147625 to Motilal Oswal Nifty 500 Index Fund - Direct Plan\n",
      "147626 to Motilal Oswal Nifty 500 Index Fund - Regular Plan\n",
      "152875 to Motilal Oswal Nifty 500 Momentum 50 Index Fund-Direct Plan-Growth\n",
      "152876 to Motilal Oswal Nifty 500 Momentum 50 Index Fund-Regular Plan-Growth\n",
      "147619 to Motilal Oswal Nifty Bank Index - Regular Plan\n",
      "147620 to Motilal Oswal Nifty Bank Index Fund - Direct Plan\n",
      "153138 to Motilal Oswal Nifty Capital Market Index Fund - Direct Plan - Growth\n",
      "153137 to Motilal Oswal Nifty Capital Market Index Fund - Regular Plan - Growth\n",
      "152712 to Motilal Oswal Nifty India Defence Index Fund Direct Plan Growth\n",
      "152711 to Motilal Oswal Nifty India Defence Index Fund Regular Plan Growth\n",
      "151814 to Motilal Oswal Nifty Microcap 250 Index Fund- Direct- Growth Option\n",
      "151815 to Motilal Oswal Nifty Microcap 250 Index Fund- Regular- Growth Option\n",
      "147622 to Motilal Oswal Nifty Midcap 150 Index Fund - Direct Plan\n",
      "147621 to Motilal Oswal Nifty Midcap 150 Index Fund - Regular Plan\n",
      "153027 to Motilal Oswal Nifty MidSmall Financial Services Index Fund - Direct Plan- Growth\n",
      "153026 to Motilal Oswal Nifty MidSmall Financial Services Index Fund-Regular Plan-Growth\n",
      "153023 to Motilal Oswal Nifty MidSmall Healthcare Index Fund- Direct Plan-Growth\n",
      "153022 to Motilal Oswal Nifty MidSmall Healthcare Index Fund-Regular Plan-Growth\n",
      "153025 to Motilal Oswal Nifty MidSmall India Consumption Index Fund - Direct Plan- Growth\n",
      "153024 to Motilal Oswal Nifty MidSmall India Consumption Index Fund-Regular Plan-Growth\n",
      "153029 to Motilal Oswal Nifty MidSmall IT and Telecom Index Fund - Direct Plan- Growth\n",
      "153028 to Motilal Oswal Nifty MidSmall IT and Telecom Index Fund-Regular Plan-Growth\n",
      "147796 to Motilal Oswal Nifty Next 50 Index Fund - Direct plan - Growth\n",
      "147797 to Motilal Oswal Nifty Next 50 Index Fund - Regular plan - Growth\n",
      "147624 to Motilal Oswal Nifty Smallcap 250 Index - Regular Plan\n",
      "147623 to Motilal Oswal Nifty Smallcap 250 Index Fund- Direct Plan\n",
      "148381 to Motilal Oswal S&P 500 Index Fund - Direct Plan Growth\n",
      "148382 to Motilal Oswal S&P 500 Index Fund - Regular Plan Growth\n",
      "150517 to Motilal Oswal BSE Enhanced Value ETF\n",
      "150445 to Motilal Oswal BSE Healthcare ETF\n",
      "149921 to Motilal Oswal BSE Low Volatility ETF\n",
      "150520 to Motilal Oswal BSE Quality ETF\n",
      "114984 to Motilal Oswal Nasdaq 100 ETF (MOFN100)\n",
      "149438 to Motilal Oswal Nasdaq Q50 ETF\n",
      "149801 to Motilal Oswal Nifty 200 Momentum 30 ETF\n",
      "148620 to Motilal Oswal Nifty 5 year Benchmark G-sec ETF\n",
      "113069 to Motilal Oswal Nifty 50 ETF\n",
      "152106 to Motilal Oswal Nifty 500 ETF\n",
      "152874 to Motilal Oswal Nifty 500 Momentum 50 ETF\n",
      "152846 to Motilal Oswal Nifty India Defence ETF\n",
      "114456 to Motilal Oswal Nifty Midcap 100 ETF\n",
      "152541 to Motilal Oswal Nifty Realty ETF\n",
      "152546 to Motilal Oswal Nifty Smallcap 250 ETF\n"
     ]
    }
   ],
   "source": [
    "for key,value in result.items():\n",
    "    print(f\"{key} to {value}\")"
   ]
  },
  {
   "cell_type": "code",
   "execution_count": 7,
   "metadata": {},
   "outputs": [
    {
     "data": {
      "text/plain": [
       "{'scheme_code': '127042',\n",
       " 'scheme_name': 'Motilal Oswal Midcap Fund-Direct Plan-Growth Option',\n",
       " 'last_updated': '03-Jan-2025',\n",
       " 'nav': '129.1344'}"
      ]
     },
     "execution_count": 7,
     "metadata": {},
     "output_type": "execute_result"
    }
   ],
   "source": [
    "quote = mf.get_scheme_quote('127042')\n",
    "quote"
   ]
  },
  {
   "cell_type": "code",
   "execution_count": 8,
   "metadata": {},
   "outputs": [
    {
     "data": {
      "text/plain": [
       "<bound method Mftool.get_all_amc_profiles of <mftool.mftool.Mftool object at 0x7ca58404c3d0>>"
      ]
     },
     "execution_count": 8,
     "metadata": {},
     "output_type": "execute_result"
    }
   ],
   "source": [
    "res = mf.get_all_amc_profiles\n",
    "res"
   ]
  },
  {
   "cell_type": "code",
   "execution_count": 9,
   "metadata": {},
   "outputs": [
    {
     "name": "stderr",
     "output_type": "stream",
     "text": [
      "/tmp/ipykernel_21988/2574824493.py:2: DeprecationWarning: Call to deprecated method get_scheme_historical_nav_for_dates. (This function will be in deprecated from next release, use mf.history() to get data) -- Deprecated since version 2.7.\n",
      "  res = mf.get_scheme_historical_nav_for_dates('127042', start_date='19-12-2024', end_date='27-12-2024')\n"
     ]
    },
    {
     "data": {
      "text/plain": [
       "{'fund_house': 'Motilal Oswal Mutual Fund',\n",
       " 'scheme_type': 'Open Ended Schemes',\n",
       " 'scheme_category': 'Equity Scheme - Mid Cap Fund',\n",
       " 'scheme_code': 127042,\n",
       " 'scheme_name': 'Motilal Oswal Midcap Fund-Direct Plan-Growth Option',\n",
       " 'scheme_start_date': {'date': '25-02-2014', 'nav': '10.01440'},\n",
       " 'data': [{'date': '27-12-2024', 'nav': '126.76400'},\n",
       "  {'date': '26-12-2024', 'nav': '126.68680'},\n",
       "  {'date': '24-12-2024', 'nav': '125.74620'},\n",
       "  {'date': '23-12-2024', 'nav': '125.84460'},\n",
       "  {'date': '20-12-2024', 'nav': '125.62790'},\n",
       "  {'date': '19-12-2024', 'nav': '129.57410'}]}"
      ]
     },
     "execution_count": 9,
     "metadata": {},
     "output_type": "execute_result"
    }
   ],
   "source": [
    "# res = mf.get_scheme_historical_nav('127042')\n",
    "res = mf.get_scheme_historical_nav_for_dates('127042', start_date='19-12-2024', end_date='27-12-2024')\n",
    "# res = mf.get_scheme_info('127042')\n",
    "res\n"
   ]
  },
  {
   "cell_type": "code",
   "execution_count": null,
   "metadata": {},
   "outputs": [
    {
     "name": "stdout",
     "output_type": "stream",
     "text": [
      "{'scheme_code': '127042', 'scheme_name': 'Motilal Oswal Midcap Fund-Direct Plan-Growth Option', 'last_updated': '03-Jan-2025', 'nav': '129.1344'}\n"
     ]
    },
    {
     "name": "stderr",
     "output_type": "stream",
     "text": [
      "/tmp/ipykernel_21988/1033935235.py:10: DeprecationWarning: Call to deprecated method get_scheme_historical_nav_for_dates. (This function will be in deprecated from next release, use mf.history() to get data) -- Deprecated since version 2.7.\n",
      "  yesterday_nav = mf.get_scheme_historical_nav_for_dates(code='127042', start_date='02-01-2025', end_date='03-01-2025').get('data')[0].get('nav')\n"
     ]
    },
    {
     "name": "stdout",
     "output_type": "stream",
     "text": [
      "Yesterday's date: 129.13440\n"
     ]
    },
    {
     "data": {
      "text/plain": [
       "True"
      ]
     },
     "execution_count": 13,
     "metadata": {},
     "output_type": "execute_result"
    }
   ],
   "source": [
    "from datetime import date, timedelta\n",
    "today = date.today()\n",
    "\n",
    "# Calculate yesterday's date\n",
    "yesterday = today - timedelta(days=1)\n",
    "\n",
    "quote = mf.get_scheme_quote('127042')\n",
    "print(quote)\n",
    "\n",
    "yesterday_nav = mf.get_scheme_historical_nav_for_dates(code='127042', start_date='02-01-2025', end_date='03-01-2025').get('data')[0].get('nav')\n",
    "\n",
    "print(\"Yesterday's date:\", yesterday_nav)\n",
    "mf.is_valid_code('127042')\n"
   ]
  },
  {
   "cell_type": "code",
   "execution_count": 2,
   "metadata": {},
   "outputs": [
    {
     "name": "stdout",
     "output_type": "stream",
     "text": [
      "3.10.12 (main, Nov  6 2024, 20:22:13) [GCC 11.4.0]\n"
     ]
    }
   ],
   "source": [
    "from mftool.utils import is_holiday, get_friday\n",
    "import sys\n",
    "print(sys.version)"
   ]
  },
  {
   "cell_type": "code",
   "execution_count": 11,
   "metadata": {},
   "outputs": [
    {
     "data": {
      "text/plain": [
       "{'scheme_code': '127042',\n",
       " 'scheme_name': 'Motilal Oswal Midcap Fund-Direct Plan-Growth Option',\n",
       " 'last_updated': '03-Jan-2025',\n",
       " 'nav': '129.1344',\n",
       " 'final_investment_value': '7175.22',\n",
       " 'absolute_return': '-28.25 %',\n",
       " 'IRR_annualised_return': '-32.86 %'}"
      ]
     },
     "execution_count": 11,
     "metadata": {},
     "output_type": "execute_result"
    }
   ],
   "source": [
    "res = mf.calculate_returns(\n",
    "    code='127042',\n",
    "    balanced_units=55.564,\n",
    "    monthly_sip=1000,\n",
    "    investment_in_months=10\n",
    ")\n",
    "res"
   ]
  }
 ],
 "metadata": {
  "kernelspec": {
   "display_name": "Python 3",
   "language": "python",
   "name": "python3"
  },
  "language_info": {
   "codemirror_mode": {
    "name": "ipython",
    "version": 3
   },
   "file_extension": ".py",
   "mimetype": "text/x-python",
   "name": "python",
   "nbconvert_exporter": "python",
   "pygments_lexer": "ipython3",
   "version": "3.10.12"
  }
 },
 "nbformat": 4,
 "nbformat_minor": 2
}
